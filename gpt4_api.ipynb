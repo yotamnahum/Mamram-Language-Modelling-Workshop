{
  "nbformat": 4,
  "nbformat_minor": 0,
  "metadata": {
    "colab": {
      "provenance": [],
      "authorship_tag": "ABX9TyNgxHECgd6tfxbpYURLskfB",
      "include_colab_link": true
    },
    "kernelspec": {
      "name": "python3",
      "display_name": "Python 3"
    },
    "language_info": {
      "name": "python"
    }
  },
  "cells": [
    {
      "cell_type": "markdown",
      "metadata": {
        "id": "view-in-github",
        "colab_type": "text"
      },
      "source": [
        "<a href=\"https://colab.research.google.com/github/yotamnahum/Mamram-Language-Modelling-Workshop/blob/main/gpt4_api.ipynb\" target=\"_parent\"><img src=\"https://colab.research.google.com/assets/colab-badge.svg\" alt=\"Open In Colab\"/></a>"
      ]
    },
    {
      "cell_type": "code",
      "execution_count": 2,
      "metadata": {
        "id": "HHtMnC7cZkVR",
        "colab": {
          "base_uri": "https://localhost:8080/"
        },
        "outputId": "545aad41-1e41-4d61-ac37-2df1ab87d404"
      },
      "outputs": [
        {
          "output_type": "stream",
          "name": "stdout",
          "text": [
            "\u001b[?25l     \u001b[90m━━━━━━━━━━━━━━━━━━━━━━━━━━━━━━━━━━━━━━━━\u001b[0m \u001b[32m0.0/76.5 kB\u001b[0m \u001b[31m?\u001b[0m eta \u001b[36m-:--:--\u001b[0m\r\u001b[2K     \u001b[90m━━━━━━━━━━━━━━━━━━━━━━━━━━━━━━━━━━━━━━━━\u001b[0m \u001b[32m76.5/76.5 kB\u001b[0m \u001b[31m3.0 MB/s\u001b[0m eta \u001b[36m0:00:00\u001b[0m\n",
            "\u001b[?25h"
          ]
        }
      ],
      "source": [
        "# @title install dependencies\n",
        "!pip -q install openai"
      ]
    },
    {
      "cell_type": "markdown",
      "source": [
        "Important API parameters [(link to openai docs)](https://platform.openai.com/docs/api-reference/chat/create)\n",
        "\n",
        "- `temperature`: Optional float, sets output randomness; higher values for more randomness, lower for more focus. Defaults to 1.\n",
        "  \n",
        "- `top_p`: Optional float, alternative to `temperature` for nucleus sampling; sets which top tokens (by probability mass) to consider. Defaults to 1.\n",
        "\n",
        "- `n`: Optional integer, specifies the number of chat completion choices to generate. Defaults to 1.\n",
        "\n",
        "- `stop`: Optional, specifies up to 4 sequences that will stop the token generation. Defaults to null.\n",
        "\n",
        "- `max_tokens`: Optional integer, sets the maximum number of tokens in the chat completion. Defaults to infinity.\n",
        "\n",
        "- `presence_penalty`: Optional float, adjusts likelihood of introducing new topics. Range between -2.0 and 2.0. Defaults to 0.\n",
        "\n",
        "- `frequency_penalty`: Optional float, adjusts likelihood of repeating the same lines. Range between -2.0 and 2.0. Defaults to 0."
      ],
      "metadata": {
        "id": "gHEBfLopoJ8T"
      }
    },
    {
      "cell_type": "code",
      "execution_count": 12,
      "metadata": {
        "id": "htxsVw-ClMkA"
      },
      "outputs": [],
      "source": [
        "import os\n",
        "import openai\n",
        "openai.api_type = \"azure\"\n",
        "openai.api_version = \"2023-05-15\"\n",
        "openai.api_base = api_endpoint\n",
        "openai.api_key = api_key\n",
        "\n",
        "\n",
        "def chat(messages, engine=gpt35_name, **kargs):\n",
        "    result = openai.ChatCompletion.create(\n",
        "        messages=messages,\n",
        "        engine=engine,\n",
        "        **kargs,\n",
        "    )\n",
        "    if len(result['choices']) == 1:\n",
        "        return result['choices'][0]['message']['content']\n",
        "    else:\n",
        "        return result"
      ]
    },
    {
      "cell_type": "code",
      "source": [
        "\n",
        "messages=[\n",
        "    {\"role\": \"system\", \"content\": \"Assistant is a large language model trained by OpenAI.\"},\n",
        "    {\"role\": \"user\", \"content\": \"Who were the founders of Microsoft?\"}\n",
        "]\n",
        "\n",
        "chat_response = chat(messages, max_tokens=30)\n",
        "print(chat_response)"
      ],
      "metadata": {
        "colab": {
          "base_uri": "https://localhost:8080/"
        },
        "id": "Z-Is3Yu0l6GT",
        "outputId": "683d6e18-aa83-4ff7-f39e-e57bc80a404b"
      },
      "execution_count": 19,
      "outputs": [
        {
          "output_type": "stream",
          "name": "stdout",
          "text": [
            "The founders of Microsoft Corporation are Bill Gates and Paul Allen. They co-founded the company on April 4, 1975. Bill Gates served as\n"
          ]
        }
      ]
    },
    {
      "cell_type": "code",
      "source": [
        "chat_response = chat(messages,max_tokens=30, top_p=0.2)\n",
        "print(chat_response)"
      ],
      "metadata": {
        "colab": {
          "base_uri": "https://localhost:8080/"
        },
        "id": "wAfzXx4yozuz",
        "outputId": "35f844e4-93fb-458d-e792-37760858b548"
      },
      "execution_count": 21,
      "outputs": [
        {
          "output_type": "stream",
          "name": "stdout",
          "text": [
            "Microsoft was founded by Bill Gates and Paul Allen. Bill Gates is a renowned American business magnate, software developer, and philanthropist. Paul Allen\n"
          ]
        }
      ]
    },
    {
      "cell_type": "code",
      "source": [
        "chat_response = chat(messages,max_tokens=30, temperature=2.0)\n",
        "print(chat_response)"
      ],
      "metadata": {
        "colab": {
          "base_uri": "https://localhost:8080/"
        },
        "id": "4HEDDUigpjcO",
        "outputId": "09dd03b0-f584-46a1-f644-b56917f326f4"
      },
      "execution_count": 22,
      "outputs": [
        {
          "output_type": "stream",
          "name": "stdout",
          "text": [
            "Microsoft was founded by Bill Gates and Paul Allen. Bill Gates, who is an American business magnate, firstly worked with Paul Allen on smaller tasks like\n"
          ]
        }
      ]
    },
    {
      "cell_type": "code",
      "source": [
        "chat_response = chat(messages,max_tokens=100, temperature=2.0, stop=\".\")\n",
        "print(chat_response)"
      ],
      "metadata": {
        "colab": {
          "base_uri": "https://localhost:8080/"
        },
        "outputId": "40833226-7297-47d0-9e70-197ce0ff3701",
        "id": "BEiEL1gxqKJG"
      },
      "execution_count": 25,
      "outputs": [
        {
          "output_type": "stream",
          "name": "stdout",
          "text": [
            "Microsoft Corporation was founded by Bill Gates and Paul Allen\n"
          ]
        }
      ]
    },
    {
      "cell_type": "code",
      "source": [
        "chat_response = chat(messages,max_tokens=30, temperature=1.0, presence_penalty=-2.0)\n",
        "print(chat_response)"
      ],
      "metadata": {
        "colab": {
          "base_uri": "https://localhost:8080/"
        },
        "outputId": "5081f212-57d8-4891-e04e-00e47a5772cd",
        "id": "ZBv9SYHJqKPf"
      },
      "execution_count": 29,
      "outputs": [
        {
          "output_type": "stream",
          "name": "stdout",
          "text": [
            "Microsoft was founded by Bill Gates and Paul Allen. Bill Gates is a renowned business magnate, software developer, and philanthropist, and Paul Allen\n"
          ]
        }
      ]
    },
    {
      "cell_type": "code",
      "source": [
        "chat_response = chat(messages,max_tokens=30, temperature=2.0, frequency_penalty=2.0)\n",
        "print(chat_response)"
      ],
      "metadata": {
        "colab": {
          "base_uri": "https://localhost:8080/"
        },
        "id": "6N7y0u6IqEHq",
        "outputId": "63c55ea7-a12f-4938-d0fa-f417632124c7"
      },
      "execution_count": 32,
      "outputs": [
        {
          "output_type": "stream",
          "name": "stdout",
          "text": [
            "The co-founders of Microsoft are Bill Gates and Paul Allen.\n"
          ]
        }
      ]
    }
  ]
}