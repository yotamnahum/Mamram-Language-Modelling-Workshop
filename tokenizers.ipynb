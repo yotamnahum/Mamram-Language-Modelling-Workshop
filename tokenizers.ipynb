{
  "nbformat": 4,
  "nbformat_minor": 0,
  "metadata": {
    "colab": {
      "provenance": [],
      "authorship_tag": "ABX9TyPzniwY13kSIlQYzSjw0As6",
      "include_colab_link": true
    },
    "kernelspec": {
      "name": "python3",
      "display_name": "Python 3"
    },
    "language_info": {
      "name": "python"
    }
  },
  "cells": [
    {
      "cell_type": "markdown",
      "metadata": {
        "id": "view-in-github",
        "colab_type": "text"
      },
      "source": [
        "<a href=\"https://colab.research.google.com/github/yotamnahum/Mamram-Language-Modelling-Workshop/blob/main/tokenizers.ipynb\" target=\"_parent\"><img src=\"https://colab.research.google.com/assets/colab-badge.svg\" alt=\"Open In Colab\"/></a>"
      ]
    },
    {
      "cell_type": "code",
      "execution_count": null,
      "metadata": {
        "cellView": "form",
        "id": "HHtMnC7cZkVR"
      },
      "outputs": [],
      "source": [
        "# @title install dependencies\n",
        "!pip -q install transformers[sentencepiece]"
      ]
    },
    {
      "cell_type": "markdown",
      "source": [
        "# Types of Tokenizers"
      ],
      "metadata": {
        "id": "TBYTMOxMhl1z"
      }
    },
    {
      "cell_type": "code",
      "source": [
        "def print_tokenization_stats(text, tokenized_text, tokenizer):\n",
        "    print(f\"original text:  {text}\\n\")\n",
        "    print(f\"tokenized text: {tokenized_text}\\n\")\n",
        "    print(f\"length: {len(tokenized_text)}\\n\")\n",
        "    print(f\"vocabulary size: {len(tokenizer)}\")"
      ],
      "metadata": {
        "id": "fQu4MoV7ilXj"
      },
      "execution_count": 68,
      "outputs": []
    },
    {
      "cell_type": "code",
      "source": [
        "text = \"Using tokenizers is easy! And simple! OpenAI!\""
      ],
      "metadata": {
        "id": "UwtamlUEbGA4"
      },
      "execution_count": 56,
      "outputs": []
    },
    {
      "cell_type": "markdown",
      "source": [
        "Whitespace tokenizer"
      ],
      "metadata": {
        "id": "fKnNtHbqb54q"
      }
    },
    {
      "cell_type": "code",
      "source": [
        "tokenized_text = text.split()\n",
        "print(text)\n",
        "print(tokenized_text)"
      ],
      "metadata": {
        "colab": {
          "base_uri": "https://localhost:8080/"
        },
        "id": "x9W6fqX_b3Zq",
        "outputId": "350f2873-dfda-4de0-d850-d8f5d66d9fe1"
      },
      "execution_count": 57,
      "outputs": [
        {
          "output_type": "stream",
          "name": "stdout",
          "text": [
            "Using tokenizers is easy! And simple! OpenAI!\n",
            "['Using', 'tokenizers', 'is', 'easy!', 'And', 'simple!', 'OpenAI!']\n"
          ]
        }
      ]
    },
    {
      "cell_type": "markdown",
      "source": [
        "Naive tokenizer"
      ],
      "metadata": {
        "id": "cpUd7xXkePSC"
      }
    },
    {
      "cell_type": "code",
      "source": [
        "import re\n",
        "\n",
        "def naive_tokenizer(text):\n",
        "    return re.findall(r'\\w+|\\W+', text)\n",
        "\n",
        "tokenized_text = naive_tokenizer(text)\n",
        "print(text)\n",
        "print(tokenized_text)\n"
      ],
      "metadata": {
        "colab": {
          "base_uri": "https://localhost:8080/"
        },
        "id": "sd87U2bydXSy",
        "outputId": "9f0f0558-a5d4-4154-93f8-1f3843969aa0"
      },
      "execution_count": 58,
      "outputs": [
        {
          "output_type": "stream",
          "name": "stdout",
          "text": [
            "Using tokenizers is easy! And simple! OpenAI!\n",
            "['Using', ' ', 'tokenizers', ' ', 'is', ' ', 'easy', '! ', 'And', ' ', 'simple', '! ', 'OpenAI', '!']\n"
          ]
        }
      ]
    },
    {
      "cell_type": "markdown",
      "source": [
        "Subword tokenization"
      ],
      "metadata": {
        "id": "gx5w4BzCchus"
      }
    },
    {
      "cell_type": "code",
      "source": [
        "from transformers import AutoTokenizer\n",
        "\n",
        "tokenizer = AutoTokenizer.from_pretrained(\"bert-base-cased\")\n",
        "tokenized_text = tokenizer.tokenize(text)\n",
        "print_tokenization_stats(text, tokenized_text, tokenizer)"
      ],
      "metadata": {
        "colab": {
          "base_uri": "https://localhost:8080/"
        },
        "id": "y9y15SAvcOHP",
        "outputId": "fcd3fa20-928a-435d-e970-7388fc527b7a"
      },
      "execution_count": 69,
      "outputs": [
        {
          "output_type": "stream",
          "name": "stdout",
          "text": [
            "original text:  Using tokenizers is easy! And simple! OpenAI!\n",
            "\n",
            "tokenized text: ['Using', 'token', '##izer', '##s', 'is', 'easy', '!', 'And', 'simple', '!', 'Open', '##A', '##I', '!']\n",
            "\n",
            "length: 14\n",
            "\n",
            "vocabulary size: 28996\n"
          ]
        }
      ]
    },
    {
      "cell_type": "markdown",
      "source": [
        "Byte-Pair Encoding (BPE)"
      ],
      "metadata": {
        "id": "7p75Op6BczVo"
      }
    },
    {
      "cell_type": "code",
      "source": [
        "from transformers import AutoTokenizer\n",
        "\n",
        "tokenizer = AutoTokenizer.from_pretrained(\"gpt2-xl\")\n",
        "tokenized_text = tokenizer.tokenize(text)\n",
        "print_tokenization_stats(text, tokenized_text, tokenizer)"
      ],
      "metadata": {
        "colab": {
          "base_uri": "https://localhost:8080/"
        },
        "id": "BOv33DfrczVq",
        "outputId": "2efdd712-385f-48de-afed-e3aeb9a56488"
      },
      "execution_count": 76,
      "outputs": [
        {
          "output_type": "stream",
          "name": "stdout",
          "text": [
            "original text:  Using tokenizers is easy! And simple! OpenAI!\n",
            "\n",
            "tokenized text: ['Using', 'Ġtoken', 'izers', 'Ġis', 'Ġeasy', '!', 'ĠAnd', 'Ġsimple', '!', 'ĠOpen', 'AI', '!']\n",
            "\n",
            "length: 12\n",
            "\n",
            "vocabulary size: 50257\n"
          ]
        }
      ]
    },
    {
      "cell_type": "markdown",
      "source": [
        "Sentence-piece tokenization"
      ],
      "metadata": {
        "id": "tOghfeFHczcb"
      }
    },
    {
      "cell_type": "code",
      "source": [
        "from transformers import AutoTokenizer\n",
        "\n",
        "tokenizer = AutoTokenizer.from_pretrained(\"t5-base\")\n",
        "tokenized_text = tokenizer.tokenize(text)\n",
        "print_tokenization_stats(text, tokenized_text, tokenizer)"
      ],
      "metadata": {
        "colab": {
          "base_uri": "https://localhost:8080/"
        },
        "id": "xw1qlJVRczcb",
        "outputId": "ac1075bb-02d0-4390-8ae6-31fcd6dda597"
      },
      "execution_count": 72,
      "outputs": [
        {
          "output_type": "stream",
          "name": "stdout",
          "text": [
            "original text:  Using tokenizers is easy! And simple! OpenAI!\n",
            "\n",
            "tokenized text: ['▁', 'Using', '▁token', 'izer', 's', '▁is', '▁easy', '!', '▁And', '▁simple', '!', '▁Open', 'AI', '!']\n",
            "\n",
            "length: 14\n",
            "\n",
            "vocabulary size: 32100\n"
          ]
        }
      ]
    },
    {
      "cell_type": "markdown",
      "source": [
        "Byte Tokenizer"
      ],
      "metadata": {
        "id": "kGiKdJ9HhxxS"
      }
    },
    {
      "cell_type": "code",
      "source": [
        "from transformers import AutoTokenizer\n",
        "\n",
        "tokenizer = AutoTokenizer.from_pretrained('google/byt5-small')\n",
        "tokenized_text = tokenizer.tokenize(text)\n",
        "print_tokenization_stats(text, tokenized_text, tokenizer)"
      ],
      "metadata": {
        "colab": {
          "base_uri": "https://localhost:8080/"
        },
        "id": "9ihngiJifuft",
        "outputId": "5796d548-71e8-4655-a2b7-5800097b2b76"
      },
      "execution_count": 73,
      "outputs": [
        {
          "output_type": "stream",
          "name": "stdout",
          "text": [
            "original text:  Using tokenizers is easy! And simple! OpenAI!\n",
            "\n",
            "tokenized text: ['U', 's', 'i', 'n', 'g', ' ', 't', 'o', 'k', 'e', 'n', 'i', 'z', 'e', 'r', 's', ' ', 'i', 's', ' ', 'e', 'a', 's', 'y', '!', ' ', 'A', 'n', 'd', ' ', 's', 'i', 'm', 'p', 'l', 'e', '!', ' ', 'O', 'p', 'e', 'n', 'A', 'I', '!']\n",
            "\n",
            "length: 45\n",
            "\n",
            "vocabulary size: 384\n"
          ]
        }
      ]
    },
    {
      "cell_type": "markdown",
      "source": [
        "# Decoding"
      ],
      "metadata": {
        "id": "HvrXTXoPjF2f"
      }
    },
    {
      "cell_type": "code",
      "source": [
        "from transformers import AutoTokenizer\n",
        "\n",
        "tokenizer = AutoTokenizer.from_pretrained(\"gpt2-xl\")\n",
        "tokenized_text = tokenizer.tokenize(text)\n",
        "input_ids = tokenizer.convert_tokens_to_ids(tokenized_text)\n",
        "\n",
        "print(f\"original text:  {text}\\n\")\n",
        "print(f\"tokenized text: {tokenized_text}\\n\")\n",
        "print(f\"input ids: {input_ids}\\n\")\n",
        "decoded_string = tokenizer.decode(input_ids)\n",
        "print(f\"decoded string: {decoded_string}\\n\")\n",
        "decoded_string == text"
      ],
      "metadata": {
        "colab": {
          "base_uri": "https://localhost:8080/"
        },
        "id": "yvkTLovFjL11",
        "outputId": "a0f07f23-c38c-4f1e-aa40-ff69c62b85a8"
      },
      "execution_count": 79,
      "outputs": [
        {
          "output_type": "stream",
          "name": "stdout",
          "text": [
            "original text:  Using tokenizers is easy! And simple! OpenAI!\n",
            "\n",
            "tokenized text: ['Using', 'Ġtoken', 'izers', 'Ġis', 'Ġeasy', '!', 'ĠAnd', 'Ġsimple', '!', 'ĠOpen', 'AI', '!']\n",
            "\n",
            "input ids: [12814, 11241, 11341, 318, 2562, 0, 843, 2829, 0, 4946, 20185, 0]\n",
            "\n",
            "decoded string: Using tokenizers is easy! And simple! OpenAI!\n",
            "\n"
          ]
        },
        {
          "output_type": "execute_result",
          "data": {
            "text/plain": [
              "True"
            ]
          },
          "metadata": {},
          "execution_count": 79
        }
      ]
    }
  ]
}